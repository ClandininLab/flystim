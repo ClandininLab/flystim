{
 "cells": [
  {
   "cell_type": "code",
   "execution_count": 1,
   "metadata": {},
   "outputs": [],
   "source": [
    "import os \n",
    "import random\n",
    "\n",
    "import matplotlib.pyplot as plt\n",
    "\n",
    "import numpy as np\n",
    "from scipy.interpolate import interp1d\n",
    "\n",
    "from flystim.util import latency_report"
   ]
  },
  {
   "cell_type": "code",
   "execution_count": 36,
   "metadata": {},
   "outputs": [],
   "source": [
    "def simulate_latency(display_fps, camera_fps, mean_latency, std_latency, min_sync_freq, max_sync_freq, length=30):\n",
    "    \"\"\" Generate simulated latency traces\n",
    "    \n",
    "    Args:\n",
    "      display_fps\n",
    "      camera_fps\n",
    "      mean_latency\n",
    "      std_latency\n",
    "      min_sync_freq\n",
    "      max_sync_freq\n",
    "      length\n",
    "      \n",
    "    Returns:\n",
    "      display_frame_times\n",
    "      display_sync\n",
    "      camera_frame_times\n",
    "      camera_sync\n",
    "    \"\"\"\n",
    "    min_toggle_freq = min_sync_freq / 2\n",
    "    max_toggle_freq = max_sync_freq / 2\n",
    "    \n",
    "    display_frame_times = np.linspace(0, length, display_fps * length)\n",
    "    display_sync = []    \n",
    "    \n",
    "    dwell = 0\n",
    "    sync = 0    \n",
    "    last_toggle = 0\n",
    "    \n",
    "    for frame_time in display_frame_times:\n",
    "        elapsed = frame_time - last_toggle\n",
    "        \n",
    "        if elapsed > dwell:\n",
    "            sync = 1 - sync\n",
    "            last_toggle = frame_time\n",
    "            dwell = random.uniform(1 / max_toggle_freq, 1 / min_toggle_freq)\n",
    "            \n",
    "        display_sync.append(sync)\n",
    "        \n",
    "    sync_trace = interp1d(display_frame_times, display_sync)\n",
    "    \n",
    "    camera_frame_times = []\n",
    "    camera_sync = []\n",
    "    \n",
    "    frame_time = 0\n",
    "    \n",
    "    while frame_time < length:\n",
    "        camera_frame_times.append(frame_time)\n",
    "        camera_sync.append(sync_trace(frame_time))\n",
    "        \n",
    "        frame_time += random.uniform((1 / camera_fps) - std_latency, (1 / camera_fps) + std_latency)\n",
    "        \n",
    "    camera_frame_times = np.array(camera_frame_times) + mean_latency\n",
    "        \n",
    "    return display_frame_times, display_sync, camera_frame_times, camera_sync\n",
    "        "
   ]
  },
  {
   "cell_type": "code",
   "execution_count": 45,
   "metadata": {},
   "outputs": [],
   "source": [
    "fs_timestamp, fs_sync, ft_timestamp, ft_sync = simulate_latency(120, 240, .05, .0005, 10, 100)"
   ]
  },
  {
   "cell_type": "code",
   "execution_count": 46,
   "metadata": {},
   "outputs": [
    {
     "name": "stdout",
     "output_type": "stream",
     "text": [
      "     statistic       |     flystim      |     fictrac     \n",
      "============================================================\n",
      "      mean fps       |     119.9667     |     240.0827    \n",
      "------------------------------------------------------------\n",
      " mean frame length   |      0.0083      |      0.0042     \n",
      "------------------------------------------------------------\n",
      "  std frame length   |      0.0000      |      0.0003     \n",
      "------------------------------------------------------------\n",
      "  min frame length   |      0.0083      |      0.0037     \n",
      "------------------------------------------------------------\n",
      "  max frame length   |      0.0083      |      0.0047     \n",
      "------------------------------------------------------------\n",
      "Globally optimal lag: 50.0 ms\n"
     ]
    }
   ],
   "source": [
    "latency_report(fs_timestamp, fs_sync, ft_timestamp * 1000, ft_sync)"
   ]
  },
  {
   "cell_type": "code",
   "execution_count": 50,
   "metadata": {},
   "outputs": [
    {
     "data": {
      "text/plain": [
       "[<matplotlib.lines.Line2D at 0x1259c37b8>]"
      ]
     },
     "execution_count": 50,
     "metadata": {},
     "output_type": "execute_result"
    },
    {
     "data": {
      "image/png": "[encoded data removed]",
      "text/plain": [
       "<Figure size 432x288 with 1 Axes>"
      ]
     },
     "metadata": {
      "needs_background": "light"
     },
     "output_type": "display_data"
    }
   ],
   "source": [
    "plt.plot(fs_timestamp[:250], fs_sync[:250])\n",
    "plt.plot(ft_timestamp[:250], ft_sync[:250])"
   ]
  },
  {
   "cell_type": "code",
   "execution_count": null,
   "metadata": {},
   "outputs": [],
   "source": []
  }
 ],
 "metadata": {
  "kernelspec": {
   "display_name": "Python 3",
   "language": "python",
   "name": "python3"
  },
  "language_info": {
   "codemirror_mode": {
    "name": "ipython",
    "version": 3
   },
   "file_extension": ".py",
   "mimetype": "text/x-python",
   "name": "python",
   "nbconvert_exporter": "python",
   "pygments_lexer": "ipython3",
   "version": "3.7.1"
  }
 },
 "nbformat": 4,
 "nbformat_minor": 4
}
