{
 "cells": [
  {
   "cell_type": "code",
   "execution_count": 1,
   "metadata": {},
   "outputs": [],
   "source": [
    "import os \n",
    "import matplotlib.pyplot as plt\n",
    "\n",
    "import numpy as np\n",
    "\n",
    "from flystim.util import latency_report"
   ]
  },
  {
   "cell_type": "code",
   "execution_count": 86,
   "metadata": {},
   "outputs": [],
   "source": [
    "# os.listdir(DATA_PATH)\n",
    "DATA_PATH = os.path.expanduser('/home/clandinin/minseung/ballrig_data')\n",
    "PREFIX = '200818_cl_test2_spinnaker1_15'\n",
    "PREFIX_TRIAL_NO = 't003'\n",
    "\n",
    "FS_SQUARE = f'{DATA_PATH}/{PREFIX}/{PREFIX}_{PREFIX_TRIAL_NO}_fs_square.txt'\n",
    "FS_TIMESTAMP = f'{DATA_PATH}/{PREFIX}/{PREFIX}_{PREFIX_TRIAL_NO}_fs_timestamps.txt'\n",
    "FT_SQUARE = f'{DATA_PATH}/{PREFIX}/{PREFIX}_{PREFIX_TRIAL_NO}_ft_square.txt'\n",
    "FT_TIMESTAMP = f'{DATA_PATH}/{PREFIX}/{PREFIX}_{PREFIX_TRIAL_NO}_ft_timestamps.txt'"
   ]
  },
  {
   "cell_type": "code",
   "execution_count": 87,
   "metadata": {},
   "outputs": [],
   "source": [
    "def load(fpath):\n",
    "    with open(fpath, 'r') as handler:\n",
    "        return np.array([float(line) for line in handler])"
   ]
  },
  {
   "cell_type": "code",
   "execution_count": 88,
   "metadata": {},
   "outputs": [],
   "source": [
    "fs_square = load(FS_SQUARE)\n",
    "fs_timestamp = load(FS_TIMESTAMP)\n",
    "\n",
    "ft_square = load(FT_SQUARE)\n",
    "ft_timestamp = load(FT_TIMESTAMP)"
   ]
  },
  {
   "cell_type": "code",
   "execution_count": 89,
   "metadata": {},
   "outputs": [
    {
     "name": "stdout",
     "output_type": "stream",
     "text": [
      "     statistic       |     flystim      |     fictrac     \n",
      "============================================================\n",
      "      mean fps       |     119.9896     |     244.7531    \n",
      "------------------------------------------------------------\n",
      " mean frame length   |      0.0083      |      0.0041     \n",
      "------------------------------------------------------------\n",
      "  std frame length   |      0.0002      |      0.0004     \n",
      "------------------------------------------------------------\n",
      "  min frame length   |      0.0073      |      0.0026     \n",
      "------------------------------------------------------------\n",
      "  max frame length   |      0.0096      |      0.0063     \n",
      "------------------------------------------------------------\n",
      "Globally optimal lag: 40.9ms\n",
      "Local lag (32 1s windows): 39.1ms mean, 2.0ms std\n",
      "Total length of recording: 10.992618 s\n"
     ]
    }
   ],
   "source": [
    "latency_report(fs_timestamp, fs_square, ft_timestamp, ft_square, window_size=1)"
   ]
  },
  {
   "cell_type": "code",
   "execution_count": null,
   "metadata": {},
   "outputs": [],
   "source": []
  },
  {
   "cell_type": "code",
   "execution_count": null,
   "metadata": {},
   "outputs": [],
   "source": []
  }
 ],
 "metadata": {
  "kernelspec": {
   "display_name": "Python 3",
   "language": "python",
   "name": "python3"
  },
  "language_info": {
   "codemirror_mode": {
    "name": "ipython",
    "version": 3
   },
   "file_extension": ".py",
   "mimetype": "text/x-python",
   "name": "python",
   "nbconvert_exporter": "python",
   "pygments_lexer": "ipython3",
   "version": "3.7.7"
  }
 },
 "nbformat": 4,
 "nbformat_minor": 4
}
