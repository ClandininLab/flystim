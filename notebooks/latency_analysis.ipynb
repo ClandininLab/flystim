{
 "cells": [
  {
   "cell_type": "code",
   "execution_count": 1,
   "metadata": {},
   "outputs": [],
   "source": [
    "import os \n",
    "import matplotlib.pyplot as plt\n",
    "\n",
    "import numpy as np\n",
    "\n",
    "from flystim.util import latency_report"
   ]
  },
  {
   "cell_type": "code",
   "execution_count": 2,
   "metadata": {},
   "outputs": [],
   "source": [
    "DATA_PATH = os.path.expanduser('~/data/clandinin/latency_measurements')\n",
    "PREFIX = 'trial_2_60hz_sq_t001'\n",
    "\n",
    "FS_SQUARE = f'{DATA_PATH}/{PREFIX}_fs_square.txt'\n",
    "FS_TIMESTAMP = f'{DATA_PATH}/{PREFIX}_fs_timestamps.txt'\n",
    "FT_SQUARE = f'{DATA_PATH}/{PREFIX}_ft_square.txt'\n",
    "FT_TIMESTAMP = f'{DATA_PATH}/{PREFIX}_ft_timestamps.txt'"
   ]
  },
  {
   "cell_type": "code",
   "execution_count": 3,
   "metadata": {},
   "outputs": [
    {
     "data": {
      "text/plain": [
       "['trial_3_5hz_sq_t000_fs_timestamps.txt',\n",
       " 'trial_2_60hz_sq_t001_ft_timestamps.txt',\n",
       " 'trial_1_t000_ft_square.txt',\n",
       " 'trial_3_5hz_sq_t000_ft_timestamps.txt',\n",
       " 'trial_2_60hz_sq_t001_fs_timestamps.txt',\n",
       " 'trial_3_5hz_sq_t001_fs_timestamps.txt',\n",
       " 'trial_2_60hz_sq_t000_ft_timestamps.txt',\n",
       " 'trial_3_5hz_sq_t001_ft_square.txt',\n",
       " 'trial_3_5hz_sq_t001_ft_timestamps.txt',\n",
       " 'trial_2_60hz_sq_t000_fs_timestamps.txt',\n",
       " 'trial_2_60hz_sq_t000_ft_square.txt',\n",
       " 'trial_2_60hz_sq_t000_fs_square.txt',\n",
       " 'trial_3_5hz_sq_t001_fs_square.txt',\n",
       " 'trial_1_t000_fs_square.txt',\n",
       " 'trial_1_t001_fs_square.txt',\n",
       " 'trial_1_t001_fs_timestamps.txt',\n",
       " 'trial_1_t001_ft_timestamps.txt',\n",
       " 'trial_3_5hz_sq_t000_fs_square.txt',\n",
       " 'trial_1_t000_fs_timestamps.txt',\n",
       " 'trial_2_60hz_sq_t001_fs_square.txt',\n",
       " 'trial_1_t000_ft_timestamps.txt',\n",
       " 'trial_2_60hz_sq_t001_ft_square.txt',\n",
       " 'trial_3_5hz_sq_t000_ft_square.txt',\n",
       " 'trial_1_t001_ft_square.txt']"
      ]
     },
     "execution_count": 3,
     "metadata": {},
     "output_type": "execute_result"
    }
   ],
   "source": [
    "os.listdir(DATA_PATH)"
   ]
  },
  {
   "cell_type": "code",
   "execution_count": 4,
   "metadata": {},
   "outputs": [],
   "source": [
    "def load(fpath):\n",
    "    with open(fpath, 'r') as handler:\n",
    "        return np.array([float(line) for line in handler])"
   ]
  },
  {
   "cell_type": "code",
   "execution_count": 5,
   "metadata": {},
   "outputs": [],
   "source": [
    "fs_square = load(FS_SQUARE)\n",
    "fs_timestamp = load(FS_TIMESTAMP)\n",
    "\n",
    "ft_square = load(FT_SQUARE)\n",
    "ft_timestamp = load(FT_TIMESTAMP)"
   ]
  },
  {
   "cell_type": "code",
   "execution_count": 6,
   "metadata": {},
   "outputs": [
    {
     "name": "stdout",
     "output_type": "stream",
     "text": [
      "     statistic       |     flystim      |     fictrac     \n",
      "============================================================\n",
      "      mean fps       |     119.9125     |     244.7580    \n",
      "------------------------------------------------------------\n",
      " mean frame length   |      0.0083      |      0.0041     \n",
      "------------------------------------------------------------\n",
      "  std frame length   |      0.0003      |      0.0001     \n",
      "------------------------------------------------------------\n",
      "  min frame length   |      0.0049      |      0.0031     \n",
      "------------------------------------------------------------\n",
      "  max frame length   |      0.0167      |      0.0058     \n",
      "------------------------------------------------------------\n",
      "Globally optimal lag: 85.8ms\n",
      "Local lag (32 10s windows): 85.8ms mean, 0.0ms std\n",
      "Total length of recording: 14.988505 s\n"
     ]
    }
   ],
   "source": [
    "latency_report(fs_timestamp, fs_square, ft_timestamp, ft_square, window_size=10)"
   ]
  },
  {
   "cell_type": "code",
   "execution_count": 16,
   "metadata": {},
   "outputs": [
    {
     "data": {
      "text/plain": [
       "array([ 0. ,  0.1,  0.2,  0.3,  0.4,  0.5,  0.6,  0.7,  0.8,  0.9,  1. ,\n",
       "        1.1,  1.2,  1.3,  1.4,  1.5,  1.6,  1.7,  1.8,  1.9,  2. ,  2.1,\n",
       "        2.2,  2.3,  2.4,  2.5,  2.6,  2.7,  2.8,  2.9,  3. ,  3.1,  3.2,\n",
       "        3.3,  3.4,  3.5,  3.6,  3.7,  3.8,  3.9,  4. ,  4.1,  4.2,  4.3,\n",
       "        4.4,  4.5,  4.6,  4.7,  4.8,  4.9,  5. ,  5.1,  5.2,  5.3,  5.4,\n",
       "        5.5,  5.6,  5.7,  5.8,  5.9,  6. ,  6.1,  6.2,  6.3,  6.4,  6.5,\n",
       "        6.6,  6.7,  6.8,  6.9,  7. ,  7.1,  7.2,  7.3,  7.4,  7.5,  7.6,\n",
       "        7.7,  7.8,  7.9,  8. ,  8.1,  8.2,  8.3,  8.4,  8.5,  8.6,  8.7,\n",
       "        8.8,  8.9,  9. ,  9.1,  9.2,  9.3,  9.4,  9.5,  9.6,  9.7,  9.8,\n",
       "        9.9, 10. , 10.1, 10.2, 10.3, 10.4, 10.5, 10.6, 10.7, 10.8, 10.9,\n",
       "       11. , 11.1, 11.2, 11.3, 11.4, 11.5, 11.6, 11.7, 11.8, 11.9, 12. ,\n",
       "       12.1, 12.2, 12.3, 12.4, 12.5, 12.6, 12.7, 12.8, 12.9, 13. , 13.1,\n",
       "       13.2, 13.3, 13.4, 13.5, 13.6, 13.7, 13.8, 13.9, 14. , 14.1, 14.2,\n",
       "       14.3, 14.4, 14.5, 14.6, 14.7, 14.8, 14.9])"
      ]
     },
     "execution_count": 16,
     "metadata": {},
     "output_type": "execute_result"
    }
   ],
   "source": [
    "np.arange(0, 15, 0.1)"
   ]
  },
  {
   "cell_type": "code",
   "execution_count": null,
   "metadata": {},
   "outputs": [],
   "source": []
  }
 ],
 "metadata": {
  "kernelspec": {
   "display_name": "Python 3",
   "language": "python",
   "name": "python3"
  },
  "language_info": {
   "codemirror_mode": {
    "name": "ipython",
    "version": 3
   },
   "file_extension": ".py",
   "mimetype": "text/x-python",
   "name": "python",
   "nbconvert_exporter": "python",
   "pygments_lexer": "ipython3",
   "version": "3.7.1"
  }
 },
 "nbformat": 4,
 "nbformat_minor": 4
}
