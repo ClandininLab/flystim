{
 "cells": [
  {
   "cell_type": "code",
   "execution_count": 1,
   "metadata": {},
   "outputs": [],
   "source": [
    "import os \n",
    "import matplotlib.pyplot as plt\n",
    "\n",
    "import numpy as np\n",
    "\n",
    "from flystim.util import latency_report"
   ]
  },
  {
   "cell_type": "code",
   "execution_count": 2,
   "metadata": {},
   "outputs": [],
   "source": [
    "DATA_PATH = os.path.expanduser('~/data/clandinin/latency_measurements')\n",
    "PREFIX = 'trial_3_5hz_sq_t000'\n",
    "\n",
    "FS_SQUARE = f'{DATA_PATH}/{PREFIX}_fs_square.txt'\n",
    "FS_TIMESTAMP = f'{DATA_PATH}/{PREFIX}_fs_timestamps.txt'\n",
    "FT_SQUARE = f'{DATA_PATH}/{PREFIX}_ft_square.txt'\n",
    "FT_TIMESTAMP = f'{DATA_PATH}/{PREFIX}_ft_timestamps.txt'"
   ]
  },
  {
   "cell_type": "code",
   "execution_count": 3,
   "metadata": {},
   "outputs": [],
   "source": [
    "def load(fpath):\n",
    "    with open(fpath, 'r') as handler:\n",
    "        return np.array([float(line) for line in handler])"
   ]
  },
  {
   "cell_type": "code",
   "execution_count": 4,
   "metadata": {},
   "outputs": [],
   "source": [
    "fs_square = load(FS_SQUARE)\n",
    "fs_timestamp = load(FS_TIMESTAMP)\n",
    "\n",
    "ft_square = load(FT_SQUARE)\n",
    "ft_timestamp = load(FT_TIMESTAMP)"
   ]
  },
  {
   "cell_type": "code",
   "execution_count": 5,
   "metadata": {},
   "outputs": [
    {
     "name": "stdout",
     "output_type": "stream",
     "text": [
      "     statistic       |     flystim      |     fictrac     \n",
      "============================================================\n",
      "      mean fps       |     119.9883     |     260.0244    \n",
      "------------------------------------------------------------\n",
      " mean frame length   |      0.0083      |      0.0038     \n",
      "------------------------------------------------------------\n",
      "  std frame length   |      0.0002      |      0.0004     \n",
      "------------------------------------------------------------\n",
      "  min frame length   |      0.0069      |      0.0029     \n",
      "------------------------------------------------------------\n",
      "  max frame length   |      0.0097      |      0.0054     \n",
      "------------------------------------------------------------\n",
      "88\n",
      "Globally optimal lag: 338.4 ms\n"
     ]
    }
   ],
   "source": [
    "latency_report(fs_timestamp, fs_square, ft_timestamp, ft_square)"
   ]
  },
  {
   "cell_type": "code",
   "execution_count": null,
   "metadata": {},
   "outputs": [],
   "source": []
  }
 ],
 "metadata": {
  "kernelspec": {
   "display_name": "Python 3",
   "language": "python",
   "name": "python3"
  },
  "language_info": {
   "codemirror_mode": {
    "name": "ipython",
    "version": 3
   },
   "file_extension": ".py",
   "mimetype": "text/x-python",
   "name": "python",
   "nbconvert_exporter": "python",
   "pygments_lexer": "ipython3",
   "version": "3.7.1"
  }
 },
 "nbformat": 4,
 "nbformat_minor": 4
}
